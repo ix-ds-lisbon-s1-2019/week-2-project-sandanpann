{
 "cells": [
  {
   "cell_type": "code",
   "execution_count": 79,
   "metadata": {},
   "outputs": [],
   "source": [
    "import pandas as pd\n",
    "import numpy as np"
   ]
  },
  {
   "cell_type": "code",
   "execution_count": 80,
   "metadata": {},
   "outputs": [
    {
     "name": "stderr",
     "output_type": "stream",
     "text": [
      "C:\\Users\\Sandi Nath\\Anaconda3\\lib\\site-packages\\IPython\\core\\interactiveshell.py:3020: DtypeWarning: Columns (8,12,13,14,15,16,50,51,52,53,55,56,57,58,59,60,61,62,63,64,65,66,67,68,69,70,71,72,73,74,75,76,77,78,79,80,81,82,83,84,85,93,94,95,96,97,98,99,100,101,102,103,104,105,106,107,108,109,110,111,112,113,114,115,116,117,118,119,120,121,122,123,124,125,126,127,128) have mixed types. Specify dtype option on import or set low_memory=False.\n",
      "  interactivity=interactivity, compiler=compiler, result=result)\n"
     ]
    }
   ],
   "source": [
    "survey = pd.read_csv(\"survey_results_public.csv\")"
   ]
  },
  {
   "cell_type": "code",
   "execution_count": 81,
   "metadata": {},
   "outputs": [],
   "source": [
    "# Ranking aspects of job opportunity in order of importance (1 being the most important, 10 being the least)\n",
    "job_assessment = survey[['AssessJob1', 'AssessJob2', 'AssessJob3', 'AssessJob4', 'AssessJob5', \n",
    "                       'AssessJob6', 'AssessJob7', 'AssessJob8', 'AssessJob9', 'AssessJob10']]"
   ]
  },
  {
   "cell_type": "code",
   "execution_count": 82,
   "metadata": {},
   "outputs": [],
   "source": [
    "survey = survey.drop(columns=['AssessJob1', 'AssessJob2', 'AssessJob3', 'AssessJob4', 'AssessJob5', \n",
    "                             'AssessJob6', 'AssessJob7', 'AssessJob8', 'AssessJob9', 'AssessJob10'])"
   ]
  },
  {
   "cell_type": "code",
   "execution_count": 121,
   "metadata": {},
   "outputs": [
    {
     "data": {
      "text/plain": [
       "<matplotlib.axes._subplots.AxesSubplot at 0x2c52830a7f0>"
      ]
     },
     "execution_count": 121,
     "metadata": {},
     "output_type": "execute_result"
    },
    {
     "data": {
      "image/png": "[encoded data removed]",
      "text/plain": [
       "<Figure size 432x288 with 1 Axes>"
      ]
     },
     "metadata": {
      "needs_background": "light"
     },
     "output_type": "display_data"
    }
   ],
   "source": []
  },
  {
   "cell_type": "code",
   "execution_count": 83,
   "metadata": {},
   "outputs": [],
   "source": [
    "# Ranking aspects of job's benefits package in order of importance (1 being the most important, 11 being the least)\n",
    "benefits_assessment = survey[['AssessBenefits1', 'AssessBenefits2', 'AssessBenefits3', 'AssessBenefits4', 'AssessBenefits5', \n",
    "                            'AssessBenefits6', 'AssessBenefits7', 'AssessBenefits8', 'AssessBenefits9', 'AssessBenefits10',\n",
    "                            'AssessBenefits11']]\n",
    "survey = survey.drop(columns=['AssessBenefits1', 'AssessBenefits2', 'AssessBenefits3', 'AssessBenefits4', 'AssessBenefits5', \n",
    "                            'AssessBenefits6', 'AssessBenefits7', 'AssessBenefits8', 'AssessBenefits9', 'AssessBenefits10',\n",
    "                            'AssessBenefits11'])"
   ]
  },
  {
   "cell_type": "code",
   "execution_count": 84,
   "metadata": {},
   "outputs": [],
   "source": [
    "# Ranking preferences of how you are contacted for a job (1 being the most preferred, 5 being the least)\n",
    "job_contact = survey[['JobContactPriorities1', 'JobContactPriorities2', 'JobContactPriorities3', 'JobContactPriorities4',\n",
    "                     'JobContactPriorities5']]\n",
    "survey = survey.drop(columns=['JobContactPriorities1', 'JobContactPriorities2', 'JobContactPriorities3', 'JobContactPriorities4',\n",
    "                     'JobContactPriorities5'])"
   ]
  },
  {
   "cell_type": "code",
   "execution_count": 85,
   "metadata": {},
   "outputs": [],
   "source": [
    "# Ranking aspects of email contents in order of importance (1 being the most important, 7 being the least)\n",
    "job_emails = survey[['JobEmailPriorities1', 'JobEmailPriorities2', 'JobEmailPriorities3', 'JobEmailPriorities4',\n",
    "                    'JobEmailPriorities5', 'JobEmailPriorities6', 'JobEmailPriorities7']]\n",
    "survey = survey.drop(columns=['JobEmailPriorities1', 'JobEmailPriorities2', 'JobEmailPriorities3', 'JobEmailPriorities4',\n",
    "                    'JobEmailPriorities5', 'JobEmailPriorities6', 'JobEmailPriorities7'])"
   ]
  },
  {
   "cell_type": "code",
   "execution_count": 86,
   "metadata": {},
   "outputs": [],
   "source": [
    "agree_disagree = survey[['AgreeDisagree1', 'AgreeDisagree2', 'AgreeDisagree3']]\n",
    "survey = survey.drop(columns=['AgreeDisagree1', 'AgreeDisagree2', 'AgreeDisagree3'])"
   ]
  },
  {
   "cell_type": "code",
   "execution_count": 87,
   "metadata": {},
   "outputs": [],
   "source": [
    "ads_agree_disagree = survey[['AdsAgreeDisagree1','AdsAgreeDisagree2', 'AdsAgreeDisagree3']]\n",
    "survey = survey.drop(columns=['AdsAgreeDisagree1','AdsAgreeDisagree2', 'AdsAgreeDisagree3'])"
   ]
  },
  {
   "cell_type": "code",
   "execution_count": 88,
   "metadata": {},
   "outputs": [],
   "source": [
    "# Ranking qualities of advertising in order of importance (1 being the most important, 7 being the least)\n",
    "ads_priorities = survey[['AdsPriorities1', 'AdsPriorities2', 'AdsPriorities3', 'AdsPriorities4', \n",
    "                        'AdsPriorities5', 'AdsPriorities6', 'AdsPriorities7']]\n",
    "survey = survey.drop(columns=['AdsPriorities1', 'AdsPriorities2', 'AdsPriorities3', 'AdsPriorities4', \n",
    "                        'AdsPriorities5', 'AdsPriorities6', 'AdsPriorities7'])"
   ]
  },
  {
   "cell_type": "code",
   "execution_count": 89,
   "metadata": {},
   "outputs": [],
   "source": [
    "# Ranking interest of hypothetical features in order of interest (1 being the least interested, 5 being the most)\n",
    "hypothetical = survey[['HypotheticalTools1', 'HypotheticalTools2', 'HypotheticalTools3', 'HypotheticalTools4',\n",
    "                      'HypotheticalTools5']]\n",
    "survey = survey.drop(columns=['HypotheticalTools1', 'HypotheticalTools2', 'HypotheticalTools3', 'HypotheticalTools4',\n",
    "                      'HypotheticalTools5'])"
   ]
  },
  {
   "cell_type": "code",
   "execution_count": 90,
   "metadata": {},
   "outputs": [
    {
     "data": {
      "text/plain": [
       "(98855, 78)"
      ]
     },
     "execution_count": 90,
     "metadata": {},
     "output_type": "execute_result"
    }
   ],
   "source": [
    "survey.shape"
   ]
  },
  {
   "cell_type": "code",
   "execution_count": 91,
   "metadata": {},
   "outputs": [
    {
     "data": {
      "text/plain": [
       "Respondent                       int64\n",
       "Hobby                           object\n",
       "OpenSource                      object\n",
       "Country                         object\n",
       "Student                         object\n",
       "Employment                      object\n",
       "FormalEducation                 object\n",
       "UndergradMajor                  object\n",
       "CompanySize                     object\n",
       "DevType                         object\n",
       "YearsCoding                     object\n",
       "YearsCodingProf                 object\n",
       "JobSatisfaction                 object\n",
       "CareerSatisfaction              object\n",
       "HopeFiveYears                   object\n",
       "JobSearchStatus                 object\n",
       "LastNewJob                      object\n",
       "UpdateCV                        object\n",
       "Currency                        object\n",
       "Salary                          object\n",
       "SalaryType                      object\n",
       "ConvertedSalary                float64\n",
       "CurrencySymbol                  object\n",
       "CommunicationTools              object\n",
       "TimeFullyProductive             object\n",
       "EducationTypes                  object\n",
       "SelfTaughtTypes                 object\n",
       "TimeAfterBootcamp               object\n",
       "HackathonReasons                object\n",
       "LanguageWorkedWith              object\n",
       "                                ...   \n",
       "AIInteresting                   object\n",
       "AIResponsible                   object\n",
       "AIFuture                        object\n",
       "EthicsChoice                    object\n",
       "EthicsReport                    object\n",
       "EthicsResponsible               object\n",
       "EthicalImplications             object\n",
       "StackOverflowRecommend          object\n",
       "StackOverflowVisit              object\n",
       "StackOverflowHasAccount         object\n",
       "StackOverflowParticipate        object\n",
       "StackOverflowJobs               object\n",
       "StackOverflowDevStory           object\n",
       "StackOverflowJobsRecommend      object\n",
       "StackOverflowConsiderMember     object\n",
       "WakeTime                        object\n",
       "HoursComputer                   object\n",
       "HoursOutside                    object\n",
       "SkipMeals                       object\n",
       "ErgonomicDevices                object\n",
       "Exercise                        object\n",
       "Gender                          object\n",
       "SexualOrientation               object\n",
       "EducationParents                object\n",
       "RaceEthnicity                   object\n",
       "Age                             object\n",
       "Dependents                      object\n",
       "MilitaryUS                      object\n",
       "SurveyTooLong                   object\n",
       "SurveyEasy                      object\n",
       "Length: 78, dtype: object"
      ]
     },
     "execution_count": 91,
     "metadata": {},
     "output_type": "execute_result"
    }
   ],
   "source": [
    "survey.dtypes"
   ]
  },
  {
   "cell_type": "code",
   "execution_count": 92,
   "metadata": {},
   "outputs": [],
   "source": [
    "survey = survey.drop_duplicates()"
   ]
  },
  {
   "cell_type": "code",
   "execution_count": 93,
   "metadata": {},
   "outputs": [
    {
     "data": {
      "text/plain": [
       "(98855, 78)"
      ]
     },
     "execution_count": 93,
     "metadata": {},
     "output_type": "execute_result"
    }
   ],
   "source": [
    "# This indicated that there are no duplicates in the data because the number of rows are unchanged\n",
    "survey.shape"
   ]
  },
  {
   "cell_type": "code",
   "execution_count": 94,
   "metadata": {},
   "outputs": [
    {
     "name": "stdout",
     "output_type": "stream",
     "text": [
      "Respondent(int64) | COMMON: 0.00%| UNCOMMON:1 observation/s\n",
      "Hobby(object) | COMMON: 80.82%| UNCOMMON:18958 observation/s\n",
      "OpenSource(object) | COMMON: 56.41%| UNCOMMON:43086 observation/s\n",
      "Country(object) | COMMON: 20.54%| UNCOMMON:1 observation/s\n",
      "Student(object) | COMMON: 71.21%| UNCOMMON:6108 observation/s\n",
      "Employment(object) | COMMON: 71.31%| UNCOMMON:227 observation/s\n",
      "FormalEducation(object) | COMMON: 44.16%| UNCOMMON:700 observation/s\n",
      "UndergradMajor(object) | COMMON: 50.92%| UNCOMMON:246 observation/s\n",
      "CompanySize(object) | COMMON: 17.19%| UNCOMMON:3017 observation/s\n",
      "DevType(object) | COMMON: 6.49%| UNCOMMON:1 observation/s\n",
      "YearsCoding(object) | COMMON: 23.58%| UNCOMMON:1060 observation/s\n",
      "YearsCodingProf(object) | COMMON: 23.69%| UNCOMMON:506 observation/s\n",
      "JobSatisfaction(object) | COMMON: 26.31%| UNCOMMON:2482 observation/s\n",
      "CareerSatisfaction(object) | COMMON: 28.25%| UNCOMMON:2613 observation/s\n",
      "HopeFiveYears(object) | COMMON: 25.94%| UNCOMMON:1269 observation/s\n",
      "JobSearchStatus(object) | COMMON: 48.11%| UNCOMMON:12636 observation/s\n",
      "LastNewJob(object) | COMMON: 27.64%| UNCOMMON:4573 observation/s\n",
      "UpdateCV(object) | COMMON: 27.66%| UNCOMMON:450 observation/s\n",
      "Currency(object) | COMMON: 20.84%| UNCOMMON:147 observation/s\n",
      "Salary(object) | COMMON: 1.13%| UNCOMMON:1 observation/s\n",
      "SalaryType(object) | COMMON: 26.56%| UNCOMMON:2262 observation/s\n",
      "ConvertedSalary(float64) | COMMON: 0.85%| UNCOMMON:1 observation/s\n",
      "CurrencySymbol(object) | COMMON: 17.53%| UNCOMMON:1 observation/s\n",
      "CommunicationTools(object) | COMMON: 3.56%| UNCOMMON:1 observation/s\n",
      "TimeFullyProductive(object) | COMMON: 23.43%| UNCOMMON:604 observation/s\n",
      "EducationTypes(object) | COMMON: 6.98%| UNCOMMON:1 observation/s\n",
      "SelfTaughtTypes(object) | COMMON: 3.47%| UNCOMMON:1 observation/s\n",
      "TimeAfterBootcamp(object) | COMMON: 3.06%| UNCOMMON:211 observation/s\n",
      "HackathonReasons(object) | COMMON: 3.20%| UNCOMMON:3 observation/s\n",
      "LanguageWorkedWith(object) | COMMON: 1.36%| UNCOMMON:1 observation/s\n",
      "LanguageDesireNextYear(object) | COMMON: 0.92%| UNCOMMON:1 observation/s\n",
      "DatabaseWorkedWith(object) | COMMON: 6.04%| UNCOMMON:1 observation/s\n",
      "DatabaseDesireNextYear(object) | COMMON: 2.92%| UNCOMMON:1 observation/s\n",
      "PlatformWorkedWith(object) | COMMON: 5.48%| UNCOMMON:1 observation/s\n",
      "PlatformDesireNextYear(object) | COMMON: 3.84%| UNCOMMON:1 observation/s\n",
      "FrameworkWorkedWith(object) | COMMON: 4.57%| UNCOMMON:1 observation/s\n",
      "FrameworkDesireNextYear(object) | COMMON: 3.84%| UNCOMMON:1 observation/s\n",
      "IDE(object) | COMMON: 2.58%| UNCOMMON:1 observation/s\n",
      "OperatingSystem(object) | COMMON: 38.46%| UNCOMMON:148 observation/s\n",
      "NumberMonitors(object) | COMMON: 39.52%| UNCOMMON:904 observation/s\n",
      "Methodology(object) | COMMON: 9.84%| UNCOMMON:1 observation/s\n",
      "VersionControl(object) | COMMON: 44.64%| UNCOMMON:1 observation/s\n",
      "CheckInCode(object) | COMMON: 44.07%| UNCOMMON:1074 observation/s\n",
      "AdBlocker(object) | COMMON: 55.65%| UNCOMMON:3900 observation/s\n",
      "AdBlockerDisable(object) | COMMON: 39.25%| UNCOMMON:2890 observation/s\n",
      "AdBlockerReasons(object) | COMMON: 7.50%| UNCOMMON:4 observation/s\n",
      "AdsActions(object) | COMMON: 17.19%| UNCOMMON:381 observation/s\n",
      "AIDangerous(object) | COMMON: 18.23%| UNCOMMON:12492 observation/s\n",
      "AIInteresting(object) | COMMON: 26.95%| UNCOMMON:8113 observation/s\n",
      "AIResponsible(object) | COMMON: 31.71%| UNCOMMON:5057 observation/s\n",
      "AIFuture(object) | COMMON: 51.36%| UNCOMMON:5686 observation/s\n",
      "EthicsChoice(object) | COMMON: 41.92%| UNCOMMON:3410 observation/s\n",
      "EthicsReport(object) | COMMON: 33.19%| UNCOMMON:3254 observation/s\n",
      "EthicsResponsible(object) | COMMON: 37.55%| UNCOMMON:12696 observation/s\n",
      "EthicalImplications(object) | COMMON: 55.84%| UNCOMMON:4216 observation/s\n",
      "StackOverflowRecommend(object) | COMMON: 53.40%| UNCOMMON:124 observation/s\n",
      "StackOverflowVisit(object) | COMMON: 25.25%| UNCOMMON:421 observation/s\n",
      "StackOverflowHasAccount(object) | COMMON: 67.92%| UNCOMMON:2920 observation/s\n",
      "StackOverflowParticipate(object) | COMMON: 26.08%| UNCOMMON:2130 observation/s\n",
      "StackOverflowJobs(object) | COMMON: 39.18%| UNCOMMON:9602 observation/s\n",
      "StackOverflowDevStory(object) | COMMON: 24.30%| UNCOMMON:10966 observation/s\n",
      "StackOverflowJobsRecommend(object) | COMMON: 10.25%| UNCOMMON:375 observation/s\n",
      "StackOverflowConsiderMember(object) | COMMON: 42.63%| UNCOMMON:16842 observation/s\n",
      "WakeTime(object) | COMMON: 21.50%| UNCOMMON:301 observation/s\n",
      "HoursComputer(object) | COMMON: 38.42%| UNCOMMON:182 observation/s\n",
      "HoursOutside(object) | COMMON: 28.11%| UNCOMMON:1825 observation/s\n",
      "SkipMeals(object) | COMMON: 46.30%| UNCOMMON:3707 observation/s\n",
      "ErgonomicDevices(object) | COMMON: 10.28%| UNCOMMON:113 observation/s\n",
      "Exercise(object) | COMMON: 27.31%| UNCOMMON:9863 observation/s\n",
      "Gender(object) | COMMON: 60.15%| UNCOMMON:3 observation/s\n",
      "SexualOrientation(object) | COMMON: 55.65%| UNCOMMON:15 observation/s\n",
      "EducationParents(object) | COMMON: 18.30%| UNCOMMON:1187 observation/s\n",
      "RaceEthnicity(object) | COMMON: 41.01%| UNCOMMON:1 observation/s\n",
      "Age(object) | COMMON: 32.13%| UNCOMMON:179 observation/s\n",
      "Dependents(object) | COMMON: 44.99%| UNCOMMON:18118 observation/s\n",
      "MilitaryUS(object) | COMMON: 15.22%| UNCOMMON:738 observation/s\n",
      "SurveyTooLong(object) | COMMON: 33.64%| UNCOMMON:470 observation/s\n",
      "SurveyEasy(object) | COMMON: 24.72%| UNCOMMON:477 observation/s\n"
     ]
    }
   ],
   "source": [
    "n_records = len(survey)\n",
    "def duplicate_values_col(df):\n",
    "    for column in df:\n",
    "        column_counts = df[column].value_counts()\n",
    "        most_common = column_counts.iloc[0]\n",
    "        least_common = column_counts.iloc[-1]\n",
    "        print(\"{}({}) | COMMON: {:.2f}%| UNCOMMON:{} observation/s\".format(\n",
    "            df[column].name,\n",
    "            df[column].dtype,\n",
    "            100 * most_common / (1.0 * n_records),\n",
    "            least_common,\n",
    "        ))\n",
    "\n",
    "duplicate_values_col(survey)"
   ]
  },
  {
   "cell_type": "code",
   "execution_count": 95,
   "metadata": {},
   "outputs": [],
   "source": [
    "# We see that hobby, student status, employment, and undergrad major have a low cardinality issue"
   ]
  },
  {
   "cell_type": "code",
   "execution_count": 96,
   "metadata": {},
   "outputs": [
    {
     "data": {
      "text/plain": [
       "Yes    0.808224\n",
       "No     0.191776\n",
       "Name: Hobby, dtype: float64"
      ]
     },
     "execution_count": 96,
     "metadata": {},
     "output_type": "execute_result"
    }
   ],
   "source": [
    "survey.Hobby.value_counts(normalize=True)"
   ]
  },
  {
   "cell_type": "code",
   "execution_count": 97,
   "metadata": {},
   "outputs": [
    {
     "data": {
      "text/plain": [
       "No                0.741815\n",
       "Yes, full-time    0.193823\n",
       "Yes, part-time    0.064362\n",
       "Name: Student, dtype: float64"
      ]
     },
     "execution_count": 97,
     "metadata": {},
     "output_type": "execute_result"
    }
   ],
   "source": [
    "survey.Student.value_counts(normalize=True)"
   ]
  },
  {
   "cell_type": "code",
   "execution_count": 98,
   "metadata": {},
   "outputs": [
    {
     "data": {
      "text/plain": [
       "<matplotlib.axes._subplots.AxesSubplot at 0x2c539b52b00>"
      ]
     },
     "execution_count": 98,
     "metadata": {},
     "output_type": "execute_result"
    },
    {
     "data": {
      "image/png": "[encoded data removed]",
      "text/plain": [
       "<Figure size 432x288 with 1 Axes>"
      ]
     },
     "metadata": {
      "needs_background": "light"
     },
     "output_type": "display_data"
    }
   ],
   "source": [
    "survey.Employment.value_counts(normalize=True).plot.barh()"
   ]
  },
  {
   "cell_type": "code",
   "execution_count": 99,
   "metadata": {},
   "outputs": [
    {
     "data": {
      "text/plain": [
       "<matplotlib.axes._subplots.AxesSubplot at 0x2c535ba9fd0>"
      ]
     },
     "execution_count": 99,
     "metadata": {},
     "output_type": "execute_result"
    },
    {
     "data": {
      "image/png": "[encoded data removed]",
      "text/plain": [
       "<Figure size 432x288 with 1 Axes>"
      ]
     },
     "metadata": {
      "needs_background": "light"
     },
     "output_type": "display_data"
    }
   ],
   "source": [
    "survey.UndergradMajor.value_counts(normalize=True).plot.barh()"
   ]
  },
  {
   "cell_type": "code",
   "execution_count": 100,
   "metadata": {},
   "outputs": [
    {
     "name": "stdout",
     "output_type": "stream",
     "text": [
      "Respondent | 0.0 | int64\n",
      "Hobby | 0.0 | object\n",
      "OpenSource | 0.0 | object\n",
      "Country | 0.004167720398563553 | object\n",
      "Student | 0.039997976834757976 | object\n",
      "Employment | 0.03574932982651358 | object\n",
      "FormalEducation | 0.04200091042435891 | object\n",
      "UndergradMajor | 0.20048555965808507 | object\n",
      "CompanySize | 0.27640483536492844 | object\n",
      "DevType | 0.06835263770168429 | object\n",
      "YearsCoding | 0.050781447574730666 | object\n",
      "YearsCodingProf | 0.21194679075413483 | object\n",
      "JobSatisfaction | 0.2992160234687168 | object\n",
      "CareerSatisfaction | 0.22609883162207273 | object\n",
      "HopeFiveYears | 0.2340498710232158 | object\n",
      "JobSearchStatus | 0.1959132062111173 | object\n",
      "LastNewJob | 0.2019725861109706 | object\n",
      "UpdateCV | 0.3370188660158818 | object\n",
      "Currency | 0.3727378483637651 | object\n",
      "Salary | 0.4883617419452734 | object\n",
      "SalaryType | 0.4833847554499014 | object\n",
      "ConvertedSalary | 0.5174548581255374 | float64\n",
      "CurrencySymbol | 0.4067067927773001 | object\n",
      "CommunicationTools | 0.4237013808102777 | object\n",
      "TimeFullyProductive | 0.4752718628293966 | object\n",
      "EducationTypes | 0.31252845076121594 | object\n",
      "SelfTaughtTypes | 0.4198169035455971 | object\n",
      "TimeAfterBootcamp | 0.9327095240503768 | object\n",
      "HackathonReasons | 0.7401143088361742 | object\n",
      "LanguageWorkedWith | 0.20758686965757928 | object\n",
      "LanguageDesireNextYear | 0.25907642506701734 | object\n",
      "DatabaseWorkedWith | 0.3296241970562946 | object\n",
      "DatabaseDesireNextYear | 0.41836022457134187 | object\n",
      "PlatformWorkedWith | 0.3323655859592332 | object\n",
      "PlatformDesireNextYear | 0.37936371453138434 | object\n",
      "FrameworkWorkedWith | 0.47782105103434325 | object\n",
      "FrameworkDesireNextYear | 0.4414243083303829 | object\n",
      "IDE | 0.23728693541044965 | object\n",
      "OperatingSystem | 0.2293864751403571 | object\n",
      "NumberMonitors | 0.22717110920034395 | object\n",
      "Methodology | 0.4033584543017551 | object\n",
      "VersionControl | 0.24841434424156594 | object\n",
      "CheckInCode | 0.2680693945678013 | object\n",
      "AdBlocker | 0.2306408375904102 | object\n",
      "AdBlockerDisable | 0.4446613727176167 | object\n",
      "AdBlockerReasons | 0.6181781396995599 | object\n",
      "AdsActions | 0.39796671893176877 | object\n",
      "AIDangerous | 0.3615396287491781 | object\n",
      "AIInteresting | 0.33875878812402005 | object\n",
      "AIResponsible | 0.33687724444894035 | object\n",
      "AIFuture | 0.294643670021749 | object\n",
      "EthicsChoice | 0.2839815891962976 | object\n",
      "EthicsReport | 0.2875828233270952 | object\n",
      "EthicsResponsible | 0.34712457639977745 | object\n",
      "EthicalImplications | 0.29888220120378334 | object\n",
      "StackOverflowRecommend | 0.2262505690152243 | object\n",
      "StackOverflowVisit | 0.22299327297557028 | object\n",
      "StackOverflowHasAccount | 0.2231955894997724 | object\n",
      "StackOverflowParticipate | 0.33498558494765057 | object\n",
      "StackOverflowJobs | 0.23830863385767032 | object\n",
      "StackOverflowDevStory | 0.33562288199888723 | object\n",
      "StackOverflowJobsRecommend | 0.6123918871073795 | object\n",
      "StackOverflowConsiderMember | 0.23112639724849526 | object\n",
      "WakeTime | 0.2701836022457134 | object\n",
      "HoursComputer | 0.2703151079864448 | object\n",
      "HoursOutside | 0.2714177330433463 | object\n",
      "SkipMeals | 0.27220676748773454 | object\n",
      "ErgonomicDevices | 0.6554751909362198 | object\n",
      "Exercise | 0.2705680036416974 | object\n",
      "Gender | 0.34784280006069496 | object\n",
      "SexualOrientation | 0.3954276465530322 | object\n",
      "EducationParents | 0.37471043447473573 | object\n",
      "RaceEthnicity | 0.4186131202265945 | object\n",
      "Age | 0.34678063830863387 | object\n",
      "Dependents | 0.36678974255222296 | object\n",
      "MilitaryUS | 0.8403621465783218 | object\n",
      "SurveyTooLong | 0.3329523038794194 | object\n",
      "SurveyEasy | 0.3335794851044459 | object\n"
     ]
    }
   ],
   "source": [
    "# Checking the number of missing values in each column\n",
    "n_records = len(survey)\n",
    "def missing_values_df(df):\n",
    "    for column in df:\n",
    "        print(\"{} | {} | {}\".format(\n",
    "            column, len(df[df[column].isnull()]) / (1.0*n_records), df[column].dtype\n",
    "        ))\n",
    "\n",
    "missing_values_df(survey)"
   ]
  },
  {
   "cell_type": "code",
   "execution_count": 101,
   "metadata": {},
   "outputs": [],
   "source": [
    "# There are considerble missing values throughout the data, which is important to keep in mind, especially with TimeAfterBootcamp,\n",
    "# Hackathon reasons, and MilitaryUS"
   ]
  },
  {
   "cell_type": "code",
   "execution_count": 102,
   "metadata": {},
   "outputs": [],
   "source": [
    "numerical_columns = survey.select_dtypes(include=[np.number]).columns.tolist()"
   ]
  },
  {
   "cell_type": "code",
   "execution_count": 103,
   "metadata": {},
   "outputs": [
    {
     "data": {
      "application/vnd.jupyter.widget-view+json": {
       "model_id": "673147de6bb04ed5934b2253e441b8a7",
       "version_major": 2,
       "version_minor": 0
      },
      "text/plain": [
       "interactive(children=(Dropdown(description='col', options=('Respondent', 'ConvertedSalary'), value='Respondent…"
      ]
     },
     "metadata": {},
     "output_type": "display_data"
    }
   ],
   "source": [
    "from ipywidgets import interact, fixed\n",
    "import matplotlib.pyplot as plt\n",
    "\n",
    "def numerical_variable_distribution(df, col):\n",
    "    df[col].plot.kde()\n",
    "    plt.xlabel('Variable \"{}\" Distribution'.format(col))\n",
    "    plt.show()\n",
    "    \n",
    "interact(numerical_variable_distribution, \n",
    "         col=numerical_columns, df=fixed(survey));"
   ]
  },
  {
   "cell_type": "code",
   "execution_count": 104,
   "metadata": {},
   "outputs": [
    {
     "data": {
      "application/vnd.jupyter.widget-view+json": {
       "model_id": "6cd573d621e84ccfa1b1537d248a8ec4",
       "version_major": 2,
       "version_minor": 0
      },
      "text/plain": [
       "interactive(children=(Dropdown(description='col', options=('Hobby', 'OpenSource', 'Country', 'Student', 'Emplo…"
      ]
     },
     "metadata": {},
     "output_type": "display_data"
    }
   ],
   "source": [
    "def categorical_variable_distribution(col):\n",
    "    survey[col].value_counts(ascending=True,normalize=True).tail(20).plot.barh()\n",
    "    plt.show()\n",
    "    \n",
    "categorical_columns = survey.select_dtypes(\n",
    "    ['object', 'category']).columns.tolist()\n",
    "\n",
    "interact(categorical_variable_distribution, col=categorical_columns);"
   ]
  },
  {
   "cell_type": "code",
   "execution_count": 106,
   "metadata": {},
   "outputs": [
    {
     "data": {
      "text/plain": [
       "rich         9787\n",
       "poor         9546\n",
       "very poor    9543\n",
       "moderate     9533\n",
       "very rich    9293\n",
       "Name: WealthBracket, dtype: int64"
      ]
     },
     "execution_count": 106,
     "metadata": {},
     "output_type": "execute_result"
    }
   ],
   "source": [
    "wealth_bracket = ['very poor', 'poor', 'moderate', 'rich', 'very rich']\n",
    "\n",
    "survey['WealthBracket'] = pd.qcut(survey['ConvertedSalary'],\n",
    "                                  5, labels=wealth_bracket)\n",
    "\n",
    "survey.WealthBracket.value_counts()"
   ]
  },
  {
   "cell_type": "code",
   "execution_count": 111,
   "metadata": {},
   "outputs": [],
   "source": [
    "# Find the typical career satisfaction of people by wealth bracket "
   ]
  },
  {
   "cell_type": "code",
   "execution_count": 113,
   "metadata": {},
   "outputs": [
    {
     "data": {
      "text/html": [
       "<div>\n",
       "<style scoped>\n",
       "    .dataframe tbody tr th:only-of-type {\n",
       "        vertical-align: middle;\n",
       "    }\n",
       "\n",
       "    .dataframe tbody tr th {\n",
       "        vertical-align: top;\n",
       "    }\n",
       "\n",
       "    .dataframe thead th {\n",
       "        text-align: right;\n",
       "    }\n",
       "</style>\n",
       "<table border=\"1\" class=\"dataframe\">\n",
       "  <thead>\n",
       "    <tr style=\"text-align: right;\">\n",
       "      <th>WealthBracket</th>\n",
       "      <th>very poor</th>\n",
       "      <th>poor</th>\n",
       "      <th>moderate</th>\n",
       "      <th>rich</th>\n",
       "      <th>very rich</th>\n",
       "    </tr>\n",
       "    <tr>\n",
       "      <th>CareerSatisfaction</th>\n",
       "      <th></th>\n",
       "      <th></th>\n",
       "      <th></th>\n",
       "      <th></th>\n",
       "      <th></th>\n",
       "    </tr>\n",
       "  </thead>\n",
       "  <tbody>\n",
       "    <tr>\n",
       "      <th>Extremely dissatisfied</th>\n",
       "      <td>448</td>\n",
       "      <td>261</td>\n",
       "      <td>204</td>\n",
       "      <td>196</td>\n",
       "      <td>253</td>\n",
       "    </tr>\n",
       "    <tr>\n",
       "      <th>Extremely satisfied</th>\n",
       "      <td>1463</td>\n",
       "      <td>1413</td>\n",
       "      <td>1674</td>\n",
       "      <td>2157</td>\n",
       "      <td>2514</td>\n",
       "    </tr>\n",
       "    <tr>\n",
       "      <th>Moderately dissatisfied</th>\n",
       "      <td>787</td>\n",
       "      <td>736</td>\n",
       "      <td>649</td>\n",
       "      <td>515</td>\n",
       "      <td>422</td>\n",
       "    </tr>\n",
       "    <tr>\n",
       "      <th>Moderately satisfied</th>\n",
       "      <td>2608</td>\n",
       "      <td>3343</td>\n",
       "      <td>3886</td>\n",
       "      <td>4277</td>\n",
       "      <td>3957</td>\n",
       "    </tr>\n",
       "    <tr>\n",
       "      <th>Neither satisfied nor dissatisfied</th>\n",
       "      <td>966</td>\n",
       "      <td>711</td>\n",
       "      <td>537</td>\n",
       "      <td>452</td>\n",
       "      <td>345</td>\n",
       "    </tr>\n",
       "    <tr>\n",
       "      <th>Slightly dissatisfied</th>\n",
       "      <td>987</td>\n",
       "      <td>928</td>\n",
       "      <td>784</td>\n",
       "      <td>689</td>\n",
       "      <td>553</td>\n",
       "    </tr>\n",
       "    <tr>\n",
       "      <th>Slightly satisfied</th>\n",
       "      <td>1789</td>\n",
       "      <td>2017</td>\n",
       "      <td>1750</td>\n",
       "      <td>1473</td>\n",
       "      <td>1221</td>\n",
       "    </tr>\n",
       "  </tbody>\n",
       "</table>\n",
       "</div>"
      ],
      "text/plain": [
       "WealthBracket                       very poor  poor  moderate  rich  very rich\n",
       "CareerSatisfaction                                                            \n",
       "Extremely dissatisfied                    448   261       204   196        253\n",
       "Extremely satisfied                      1463  1413      1674  2157       2514\n",
       "Moderately dissatisfied                   787   736       649   515        422\n",
       "Moderately satisfied                     2608  3343      3886  4277       3957\n",
       "Neither satisfied nor dissatisfied        966   711       537   452        345\n",
       "Slightly dissatisfied                     987   928       784   689        553\n",
       "Slightly satisfied                       1789  2017      1750  1473       1221"
      ]
     },
     "execution_count": 113,
     "metadata": {},
     "output_type": "execute_result"
    }
   ],
   "source": [
    "def pivot_count(df, rows, columns):\n",
    "    df_pivot = df.pivot_table(values=\"Respondent\", # could be any column, since we are just counting rows \n",
    "                              index=rows, \n",
    "                              columns=columns, \n",
    "                              aggfunc=np.size\n",
    "                             ).dropna(axis=0, how='all')\n",
    "    return df_pivot\n",
    "\n",
    "satisfaction_by_wealth = pivot_count(survey, \"CareerSatisfaction\",\"WealthBracket\")\n",
    "satisfaction_by_wealth"
   ]
  },
  {
   "cell_type": "code",
   "execution_count": 114,
   "metadata": {},
   "outputs": [],
   "source": [
    "# It's interesting to note that the very rich are the most extremely satisfied and the very poor are the most extremely\n",
    "# dissatisfied. There is no clear correlation between the two, but generally as people are wealthier, they are more satisfied\n",
    "# with their career."
   ]
  },
  {
   "cell_type": "code",
   "execution_count": 117,
   "metadata": {},
   "outputs": [
    {
     "data": {
      "text/html": [
       "<div>\n",
       "<style scoped>\n",
       "    .dataframe tbody tr th:only-of-type {\n",
       "        vertical-align: middle;\n",
       "    }\n",
       "\n",
       "    .dataframe tbody tr th {\n",
       "        vertical-align: top;\n",
       "    }\n",
       "\n",
       "    .dataframe thead th {\n",
       "        text-align: right;\n",
       "    }\n",
       "</style>\n",
       "<table border=\"1\" class=\"dataframe\">\n",
       "  <thead>\n",
       "    <tr style=\"text-align: right;\">\n",
       "      <th>WealthBracket</th>\n",
       "      <th>very poor</th>\n",
       "      <th>poor</th>\n",
       "      <th>moderate</th>\n",
       "      <th>rich</th>\n",
       "      <th>very rich</th>\n",
       "    </tr>\n",
       "    <tr>\n",
       "      <th>FormalEducation</th>\n",
       "      <th></th>\n",
       "      <th></th>\n",
       "      <th></th>\n",
       "      <th></th>\n",
       "      <th></th>\n",
       "    </tr>\n",
       "  </thead>\n",
       "  <tbody>\n",
       "    <tr>\n",
       "      <th>Associate degree</th>\n",
       "      <td>258</td>\n",
       "      <td>336</td>\n",
       "      <td>345</td>\n",
       "      <td>323</td>\n",
       "      <td>251</td>\n",
       "    </tr>\n",
       "    <tr>\n",
       "      <th>Bachelor’s degree (BA, BS, B.Eng., etc.)</th>\n",
       "      <td>4751</td>\n",
       "      <td>4065</td>\n",
       "      <td>4316</td>\n",
       "      <td>5044</td>\n",
       "      <td>4648</td>\n",
       "    </tr>\n",
       "    <tr>\n",
       "      <th>I never completed any formal education</th>\n",
       "      <td>53</td>\n",
       "      <td>29</td>\n",
       "      <td>25</td>\n",
       "      <td>28</td>\n",
       "      <td>42</td>\n",
       "    </tr>\n",
       "    <tr>\n",
       "      <th>Master’s degree (MA, MS, M.Eng., MBA, etc.)</th>\n",
       "      <td>1444</td>\n",
       "      <td>2372</td>\n",
       "      <td>2619</td>\n",
       "      <td>2426</td>\n",
       "      <td>2318</td>\n",
       "    </tr>\n",
       "    <tr>\n",
       "      <th>Other doctoral degree (Ph.D, Ed.D., etc.)</th>\n",
       "      <td>43</td>\n",
       "      <td>145</td>\n",
       "      <td>271</td>\n",
       "      <td>348</td>\n",
       "      <td>384</td>\n",
       "    </tr>\n",
       "    <tr>\n",
       "      <th>Primary/elementary school</th>\n",
       "      <td>216</td>\n",
       "      <td>53</td>\n",
       "      <td>38</td>\n",
       "      <td>37</td>\n",
       "      <td>44</td>\n",
       "    </tr>\n",
       "    <tr>\n",
       "      <th>Professional degree (JD, MD, etc.)</th>\n",
       "      <td>150</td>\n",
       "      <td>238</td>\n",
       "      <td>94</td>\n",
       "      <td>69</td>\n",
       "      <td>61</td>\n",
       "    </tr>\n",
       "    <tr>\n",
       "      <th>Secondary school (e.g. American high school, German Realschule or Gymnasium, etc.)</th>\n",
       "      <td>1164</td>\n",
       "      <td>713</td>\n",
       "      <td>470</td>\n",
       "      <td>343</td>\n",
       "      <td>331</td>\n",
       "    </tr>\n",
       "    <tr>\n",
       "      <th>Some college/university study without earning a degree</th>\n",
       "      <td>1233</td>\n",
       "      <td>1438</td>\n",
       "      <td>1220</td>\n",
       "      <td>1083</td>\n",
       "      <td>1129</td>\n",
       "    </tr>\n",
       "  </tbody>\n",
       "</table>\n",
       "</div>"
      ],
      "text/plain": [
       "WealthBracket                                       very poor  poor  moderate  \\\n",
       "FormalEducation                                                                 \n",
       "Associate degree                                          258   336       345   \n",
       "Bachelor’s degree (BA, BS, B.Eng., etc.)                 4751  4065      4316   \n",
       "I never completed any formal education                     53    29        25   \n",
       "Master’s degree (MA, MS, M.Eng., MBA, etc.)              1444  2372      2619   \n",
       "Other doctoral degree (Ph.D, Ed.D., etc.)                  43   145       271   \n",
       "Primary/elementary school                                 216    53        38   \n",
       "Professional degree (JD, MD, etc.)                        150   238        94   \n",
       "Secondary school (e.g. American high school, Ge...       1164   713       470   \n",
       "Some college/university study without earning a...       1233  1438      1220   \n",
       "\n",
       "WealthBracket                                       rich  very rich  \n",
       "FormalEducation                                                      \n",
       "Associate degree                                     323        251  \n",
       "Bachelor’s degree (BA, BS, B.Eng., etc.)            5044       4648  \n",
       "I never completed any formal education                28         42  \n",
       "Master’s degree (MA, MS, M.Eng., MBA, etc.)         2426       2318  \n",
       "Other doctoral degree (Ph.D, Ed.D., etc.)            348        384  \n",
       "Primary/elementary school                             37         44  \n",
       "Professional degree (JD, MD, etc.)                    69         61  \n",
       "Secondary school (e.g. American high school, Ge...   343        331  \n",
       "Some college/university study without earning a...  1083       1129  "
      ]
     },
     "execution_count": 117,
     "metadata": {},
     "output_type": "execute_result"
    }
   ],
   "source": [
    "wealth_by_education = pivot_count(survey, \"FormalEducation\", \"WealthBracket\")\n",
    "wealth_by_education"
   ]
  },
  {
   "cell_type": "code",
   "execution_count": 118,
   "metadata": {},
   "outputs": [],
   "source": [
    "# For the most part, formal education doesn't suggest too much about wealth"
   ]
  },
  {
   "cell_type": "code",
   "execution_count": 120,
   "metadata": {},
   "outputs": [
    {
     "data": {
      "text/html": [
       "<div>\n",
       "<style scoped>\n",
       "    .dataframe tbody tr th:only-of-type {\n",
       "        vertical-align: middle;\n",
       "    }\n",
       "\n",
       "    .dataframe tbody tr th {\n",
       "        vertical-align: top;\n",
       "    }\n",
       "\n",
       "    .dataframe thead th {\n",
       "        text-align: right;\n",
       "    }\n",
       "</style>\n",
       "<table border=\"1\" class=\"dataframe\">\n",
       "  <thead>\n",
       "    <tr style=\"text-align: right;\">\n",
       "      <th>WealthBracket</th>\n",
       "      <th>very poor</th>\n",
       "      <th>poor</th>\n",
       "      <th>moderate</th>\n",
       "      <th>rich</th>\n",
       "      <th>very rich</th>\n",
       "    </tr>\n",
       "    <tr>\n",
       "      <th>EducationParents</th>\n",
       "      <th></th>\n",
       "      <th></th>\n",
       "      <th></th>\n",
       "      <th></th>\n",
       "      <th></th>\n",
       "    </tr>\n",
       "  </thead>\n",
       "  <tbody>\n",
       "    <tr>\n",
       "      <th>Associate degree</th>\n",
       "      <td>376</td>\n",
       "      <td>381</td>\n",
       "      <td>456</td>\n",
       "      <td>487</td>\n",
       "      <td>421</td>\n",
       "    </tr>\n",
       "    <tr>\n",
       "      <th>Bachelor’s degree (BA, BS, B.Eng., etc.)</th>\n",
       "      <td>2606</td>\n",
       "      <td>2388</td>\n",
       "      <td>2434</td>\n",
       "      <td>2691</td>\n",
       "      <td>2581</td>\n",
       "    </tr>\n",
       "    <tr>\n",
       "      <th>Master’s degree (MA, MS, M.Eng., MBA, etc.)</th>\n",
       "      <td>1503</td>\n",
       "      <td>1873</td>\n",
       "      <td>1909</td>\n",
       "      <td>2167</td>\n",
       "      <td>2073</td>\n",
       "    </tr>\n",
       "    <tr>\n",
       "      <th>Other doctoral degree (Ph.D, Ed.D., etc.)</th>\n",
       "      <td>300</td>\n",
       "      <td>411</td>\n",
       "      <td>514</td>\n",
       "      <td>646</td>\n",
       "      <td>682</td>\n",
       "    </tr>\n",
       "    <tr>\n",
       "      <th>Primary/elementary school</th>\n",
       "      <td>708</td>\n",
       "      <td>511</td>\n",
       "      <td>345</td>\n",
       "      <td>306</td>\n",
       "      <td>283</td>\n",
       "    </tr>\n",
       "    <tr>\n",
       "      <th>Professional degree (JD, MD, etc.)</th>\n",
       "      <td>284</td>\n",
       "      <td>395</td>\n",
       "      <td>313</td>\n",
       "      <td>426</td>\n",
       "      <td>494</td>\n",
       "    </tr>\n",
       "    <tr>\n",
       "      <th>Secondary school (e.g. American high school, German Realschule or Gymnasium, etc.)</th>\n",
       "      <td>1324</td>\n",
       "      <td>1761</td>\n",
       "      <td>1820</td>\n",
       "      <td>1487</td>\n",
       "      <td>1313</td>\n",
       "    </tr>\n",
       "    <tr>\n",
       "      <th>Some college/university study without earning a degree</th>\n",
       "      <td>754</td>\n",
       "      <td>780</td>\n",
       "      <td>891</td>\n",
       "      <td>878</td>\n",
       "      <td>743</td>\n",
       "    </tr>\n",
       "    <tr>\n",
       "      <th>They never completed any formal education</th>\n",
       "      <td>287</td>\n",
       "      <td>147</td>\n",
       "      <td>100</td>\n",
       "      <td>89</td>\n",
       "      <td>98</td>\n",
       "    </tr>\n",
       "  </tbody>\n",
       "</table>\n",
       "</div>"
      ],
      "text/plain": [
       "WealthBracket                                       very poor  poor  moderate  \\\n",
       "EducationParents                                                                \n",
       "Associate degree                                          376   381       456   \n",
       "Bachelor’s degree (BA, BS, B.Eng., etc.)                 2606  2388      2434   \n",
       "Master’s degree (MA, MS, M.Eng., MBA, etc.)              1503  1873      1909   \n",
       "Other doctoral degree (Ph.D, Ed.D., etc.)                 300   411       514   \n",
       "Primary/elementary school                                 708   511       345   \n",
       "Professional degree (JD, MD, etc.)                        284   395       313   \n",
       "Secondary school (e.g. American high school, Ge...       1324  1761      1820   \n",
       "Some college/university study without earning a...        754   780       891   \n",
       "They never completed any formal education                 287   147       100   \n",
       "\n",
       "WealthBracket                                       rich  very rich  \n",
       "EducationParents                                                     \n",
       "Associate degree                                     487        421  \n",
       "Bachelor’s degree (BA, BS, B.Eng., etc.)            2691       2581  \n",
       "Master’s degree (MA, MS, M.Eng., MBA, etc.)         2167       2073  \n",
       "Other doctoral degree (Ph.D, Ed.D., etc.)            646        682  \n",
       "Primary/elementary school                            306        283  \n",
       "Professional degree (JD, MD, etc.)                   426        494  \n",
       "Secondary school (e.g. American high school, Ge...  1487       1313  \n",
       "Some college/university study without earning a...   878        743  \n",
       "They never completed any formal education             89         98  "
      ]
     },
     "execution_count": 120,
     "metadata": {},
     "output_type": "execute_result"
    }
   ],
   "source": [
    "wealth_by_parents_education = pivot_count(survey, \"EducationParents\", \"WealthBracket\")\n",
    "wealth_by_parents_education"
   ]
  },
  {
   "cell_type": "code",
   "execution_count": null,
   "metadata": {},
   "outputs": [],
   "source": [
    "# Parents' education doesn't seem to suggest too much about wealth"
   ]
  },
  {
   "cell_type": "code",
   "execution_count": 124,
   "metadata": {},
   "outputs": [
    {
     "ename": "ModuleNotFoundError",
     "evalue": "No module named 'pandas_profiling'",
     "output_type": "error",
     "traceback": [
      "\u001b[1;31m---------------------------------------------------------------------------\u001b[0m",
      "\u001b[1;31mModuleNotFoundError\u001b[0m                       Traceback (most recent call last)",
      "\u001b[1;32m<ipython-input-124-2849a5acde69>\u001b[0m in \u001b[0;36m<module>\u001b[1;34m\u001b[0m\n\u001b[1;32m----> 1\u001b[1;33m \u001b[1;32mimport\u001b[0m \u001b[0mpandas_profiling\u001b[0m\u001b[1;33m\u001b[0m\u001b[1;33m\u001b[0m\u001b[0m\n\u001b[0m\u001b[0;32m      2\u001b[0m \u001b[1;33m\u001b[0m\u001b[0m\n\u001b[0;32m      3\u001b[0m \u001b[0mreport\u001b[0m \u001b[1;33m=\u001b[0m \u001b[0mpandas_profiling\u001b[0m\u001b[1;33m.\u001b[0m\u001b[0mProfileReport\u001b[0m\u001b[1;33m(\u001b[0m\u001b[0msurvey\u001b[0m\u001b[1;33m)\u001b[0m\u001b[1;33m\u001b[0m\u001b[1;33m\u001b[0m\u001b[0m\n\u001b[0;32m      4\u001b[0m \u001b[0mreport\u001b[0m\u001b[1;33m\u001b[0m\u001b[1;33m\u001b[0m\u001b[0m\n",
      "\u001b[1;31mModuleNotFoundError\u001b[0m: No module named 'pandas_profiling'"
     ]
    }
   ],
   "source": [
    "import pandas_profiling\n",
    " \n",
    "report = pandas_profiling.ProfileReport(survey)\n",
    "report"
   ]
  },
  {
   "cell_type": "code",
   "execution_count": null,
   "metadata": {},
   "outputs": [],
   "source": []
  }
 ],
 "metadata": {
  "kernelspec": {
   "display_name": "Python 3",
   "language": "python",
   "name": "python3"
  },
  "language_info": {
   "codemirror_mode": {
    "name": "ipython",
    "version": 3
   },
   "file_extension": ".py",
   "mimetype": "text/x-python",
   "name": "python",
   "nbconvert_exporter": "python",
   "pygments_lexer": "ipython3",
   "version": "3.7.1"
  }
 },
 "nbformat": 4,
 "nbformat_minor": 2
}
